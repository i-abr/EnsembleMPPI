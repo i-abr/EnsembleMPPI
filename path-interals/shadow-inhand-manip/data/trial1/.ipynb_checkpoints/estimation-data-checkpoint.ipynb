{
 "cells": [
  {
   "cell_type": "code",
   "execution_count": 8,
   "metadata": {},
   "outputs": [],
   "source": [
    "import numpy as np\n",
    "import pickle\n",
    "import matplotlib.pyplot as plt"
   ]
  },
  {
   "cell_type": "markdown",
   "metadata": {},
   "source": [
    "Load the estimation data "
   ]
  },
  {
   "cell_type": "code",
   "execution_count": 14,
   "metadata": {},
   "outputs": [],
   "source": [
    "file = open('estimation-data.pickle', 'rb')\n",
    "data = pickle.load(file)\n",
    "file.close()"
   ]
  },
  {
   "cell_type": "code",
   "execution_count": 15,
   "metadata": {},
   "outputs": [],
   "source": [
    "mass = []\n",
    "mass_variance = []\n",
    "for i in range(len(data)):\n",
    "    mass.append(\n",
    "            data[i]['mean mass']\n",
    "    )\n",
    "    mass_variance.append(\n",
    "        np.sqrt(data[i]['var mass'].ravel())\n",
    "    )\n",
    "\n",
    "## make this into a numpy array\n",
    "mass = np.array(mass)\n",
    "mass_variance = np.array(mass_variance).flatten()"
   ]
  },
  {
   "cell_type": "code",
   "execution_count": 20,
   "metadata": {},
   "outputs": [
    {
     "data": {
      "text/plain": [
       "Text(0, 0.5, 'estimated mass (kg)')"
      ]
     },
     "execution_count": 20,
     "metadata": {},
     "output_type": "execute_result"
    },
    {
     "data": {
      "image/png": "[encoded data removed]",
      "text/plain": [
       "<Figure size 432x288 with 1 Axes>"
      ]
     },
     "metadata": {
      "needs_background": "light"
     },
     "output_type": "display_data"
    }
   ],
   "source": [
    "sampling_iter = [i for i in range(len(mass))]\n",
    "plt.plot(sampling_iter, mass)\n",
    "plt.plot(sampling_iter, [0.0708 for _ in range(len(sampling_iter))], '--')\n",
    "plt.fill_between(sampling_iter, \n",
    "                 mass - 0.5*mass_variance, \n",
    "                 mass + 0.5*mass_variance, alpha=0.2)\n",
    "plt.xlabel('sampling iter.', fontsize='12')\n",
    "plt.ylabel('estimated mass (kg)', fontsize='12')\n"
   ]
  },
  {
   "cell_type": "code",
   "execution_count": 17,
   "metadata": {},
   "outputs": [
    {
     "data": {
      "text/plain": [
       "dict_keys(['mean mass', 'mean inertia', 'var mass', 'var inertia'])"
      ]
     },
     "execution_count": 17,
     "metadata": {},
     "output_type": "execute_result"
    }
   ],
   "source": [
    "data[0].keys()"
   ]
  },
  {
   "cell_type": "code",
   "execution_count": 33,
   "metadata": {},
   "outputs": [
    {
     "data": {
      "text/plain": [
       "(2992,)"
      ]
     },
     "execution_count": 33,
     "metadata": {},
     "output_type": "execute_result"
    }
   ],
   "source": [
    "mass_variance.flatten().shape"
   ]
  },
  {
   "cell_type": "code",
   "execution_count": null,
   "metadata": {},
   "outputs": [],
   "source": []
  }
 ],
 "metadata": {
  "kernelspec": {
   "display_name": "Python 3",
   "language": "python",
   "name": "python3"
  },
  "language_info": {
   "codemirror_mode": {
    "name": "ipython",
    "version": 3
   },
   "file_extension": ".py",
   "mimetype": "text/x-python",
   "name": "python",
   "nbconvert_exporter": "python",
   "pygments_lexer": "ipython3",
   "version": "3.6.7"
  }
 },
 "nbformat": 4,
 "nbformat_minor": 2
}
