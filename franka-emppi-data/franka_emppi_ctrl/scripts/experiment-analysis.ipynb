{
 "cells": [
  {
   "cell_type": "code",
   "execution_count": 6,
   "metadata": {},
   "outputs": [],
   "source": [
    "import numpy as np\n",
    "import rospy\n",
    "import rosbag\n",
    "\n",
    "from mujoco_py import load_model_from_path, MjSim, MjSimPool, MjViewer, MjSimState\n",
    "from mujoco_py.generated import const\n",
    "from quatmath import euler2mat\n",
    "\n",
    "import matplotlib.pyplot as plt"
   ]
  },
  {
   "cell_type": "code",
   "execution_count": 2,
   "metadata": {},
   "outputs": [],
   "source": [
    "def get_handle_data(npy_file_name, num_files):\n",
    "\n",
    "    data = np.load(npy_file_name + '_{}.npy'.format(0))\n",
    "    for i in range(num_files):\n",
    "        _data = np.load(npy_file_name + '_{}.npy'.format(i))\n",
    "        data = np.vstack((data, _data))\n",
    "    return data\n"
   ]
  },
  {
   "cell_type": "code",
   "execution_count": 8,
   "metadata": {},
   "outputs": [],
   "source": [
    "handle_pose_data = get_handle_data('./data/trial3/sampled_poses',20)\n",
    "handle_axis_data = get_handle_data('./data/trial3/sampled_jnts', 20)\n",
    "model_prob_data = get_handle_data('./data/trial3/model_probs', 20)"
   ]
  },
  {
   "cell_type": "code",
   "execution_count": 31,
   "metadata": {},
   "outputs": [],
   "source": [
    "handle_mean = []\n",
    "handle_pose = []\n",
    "handle_var = []\n",
    "handle_pose_var = []\n",
    "\n",
    "true_axis = np.array([1.0, 0., 0.])\n",
    "\n",
    "for sampled_axis, sampled_poses, model_probs in zip(handle_axis_data, handle_pose_data,  model_prob_data):\n",
    "    _mean = 0.0\n",
    "    _mean_pose = 0.0\n",
    "    _var = 0.0\n",
    "    _var_pose = 0.0\n",
    "    for _ax, _pose, _prob in zip(sampled_axis, sampled_poses, model_probs):\n",
    "        _mean += _ax * _prob\n",
    "        _mean_pose += _pose * _prob\n",
    "    for _ax, _pose, _prob in zip(sampled_axis, sampled_poses, model_probs):\n",
    "        _diff = _mean - _ax\n",
    "        _diff_pose = _mean_pose - _pose\n",
    "        _var += np.outer(_diff, _diff) * _prob\n",
    "        _var_pose += np.outer(_diff_pose, _diff_pose) * _prob\n",
    "\n",
    "    handle_mean.append(np.dot(_mean,true_axis))\n",
    "    handle_var.append(np.diag(_var).sum())\n",
    "    handle_pose.append(_mean_pose)\n",
    "    handle_pose_var.append(_var_pose)\n",
    "    \n",
    "handle_mean = np.array(handle_mean)\n",
    "handle_var = np.array(handle_var)\n",
    "\n",
    "handle_mean_pose = np.array(handle_pose)\n",
    "handle_var_pose = np.array(handle_pose_var)"
   ]
  },
  {
   "cell_type": "code",
   "execution_count": 39,
   "metadata": {},
   "outputs": [
    {
     "data": {
      "image/png": "[encoded data removed]",
      "text/plain": [
       "<Figure size 144x216 with 1 Axes>"
      ]
     },
     "metadata": {
      "needs_background": "light"
     },
     "output_type": "display_data"
    }
   ],
   "source": [
    "t = [i for i in range(len(handle_mean))]\n",
    "plt.figure(figsize=(2,3))\n",
    "plt.plot(t, handle_mean)\n",
    "plt.fill_between(t, handle_mean - 0.5 * handle_var,\n",
    "                handle_mean + 0.5 * handle_var, alpha=0.2)\n",
    "plt.xlabel('time step')\n",
    "plt.ylabel('cosine similarity')\n",
    "plt.title('est. articulation')\n",
    "plt.tight_layout()\n",
    "\n",
    "plt.savefig('cos-sim.pdf')"
   ]
  },
  {
   "cell_type": "code",
   "execution_count": null,
   "metadata": {},
   "outputs": [],
   "source": []
  }
 ],
 "metadata": {
  "kernelspec": {
   "display_name": "Python 3",
   "language": "python",
   "name": "python3"
  },
  "language_info": {
   "codemirror_mode": {
    "name": "ipython",
    "version": 3
   },
   "file_extension": ".py",
   "mimetype": "text/x-python",
   "name": "python",
   "nbconvert_exporter": "python",
   "pygments_lexer": "ipython3",
   "version": "3.6.7"
  }
 },
 "nbformat": 4,
 "nbformat_minor": 2
}
